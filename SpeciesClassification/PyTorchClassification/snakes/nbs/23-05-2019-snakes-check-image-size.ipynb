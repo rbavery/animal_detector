{
 "cells": [
  {
   "cell_type": "code",
   "execution_count": 15,
   "metadata": {},
   "outputs": [],
   "source": [
    "from PIL import Image\n",
    "from pathlib import Path\n",
    "import matplotlib.pyplot as plt\n",
    "\n",
    "%matplotlib inline"
   ]
  },
  {
   "cell_type": "code",
   "execution_count": 16,
   "metadata": {},
   "outputs": [
    {
     "name": "stdout",
     "output_type": "stream",
     "text": [
      "class-1059  class-326  class-450  class-561  class-654\tclass-771  class-872\r\n",
      "class-128   class-337  class-460  class-581  class-663\tclass-78   class-957\r\n",
      "class-140   class-362  class-508  class-597  class-67\tclass-784  class-966\r\n",
      "class-1625  class-390  class-526  class-629  class-697\tclass-804\r\n",
      "class-204   class-394  class-536  class-635  class-707\tclass-811\r\n",
      "class-239   class-4    class-540  class-639  class-72\tclass-854\r\n",
      "class-273   class-448  class-543  class-653  class-734\tclass-857\r\n"
     ]
    }
   ],
   "source": [
    "cwd = Path.cwd()\n",
    "data_dir = cwd/'data'/'train'\n",
    "!ls {data_dir}"
   ]
  },
  {
   "cell_type": "code",
   "execution_count": 17,
   "metadata": {},
   "outputs": [],
   "source": [
    "size = list()\n",
    "for species in data_dir.iterdir():\n",
    "    for img in species.iterdir():\n",
    "        try:\n",
    "            size.append(Image.open(img).size)\n",
    "        except OSError:\n",
    "            pass"
   ]
  },
  {
   "cell_type": "code",
   "execution_count": 18,
   "metadata": {},
   "outputs": [],
   "source": [
    "w = list(map(lambda s: s[0], size))\n",
    "h = list(map(lambda s: s[1], size))"
   ]
  },
  {
   "cell_type": "code",
   "execution_count": 22,
   "metadata": {},
   "outputs": [
    {
     "data": {
      "text/plain": [
       "(array([  154., 21714., 37560.,  8782.,   268.,  1374.,   157.,  4773.,\n",
       "           93.,  7542.]),\n",
       " array([  45. ,  240.5,  436. ,  631.5,  827. , 1022.5, 1218. , 1413.5,\n",
       "        1609. , 1804.5, 2000. ]),\n",
       " <a list of 10 Patch objects>)"
      ]
     },
     "execution_count": 22,
     "metadata": {},
     "output_type": "execute_result"
    },
    {
     "data": {
      "image/png": "[encoded data removed]",
      "text/plain": [
       "<Figure size 432x288 with 1 Axes>"
      ]
     },
     "metadata": {
      "needs_background": "light"
     },
     "output_type": "display_data"
    }
   ],
   "source": [
    "plt.hist(w, bins=10)"
   ]
  },
  {
   "cell_type": "code",
   "execution_count": 23,
   "metadata": {},
   "outputs": [
    {
     "data": {
      "text/plain": [
       "(array([  643., 29978., 34510.,  3164.,   429.,  1473.,  1096.,  5192.,\n",
       "           64.,  5868.]),\n",
       " array([  36. ,  232.4,  428.8,  625.2,  821.6, 1018. , 1214.4, 1410.8,\n",
       "        1607.2, 1803.6, 2000. ]),\n",
       " <a list of 10 Patch objects>)"
      ]
     },
     "execution_count": 23,
     "metadata": {},
     "output_type": "execute_result"
    },
    {
     "data": {
      "image/png": "[encoded data removed]",
      "text/plain": [
       "<Figure size 432x288 with 1 Axes>"
      ]
     },
     "metadata": {
      "needs_background": "light"
     },
     "output_type": "display_data"
    }
   ],
   "source": [
    "plt.hist(h, bins=10)"
   ]
  },
  {
   "cell_type": "code",
   "execution_count": 31,
   "metadata": {},
   "outputs": [
    {
     "data": {
      "text/plain": [
       "(86, 548)"
      ]
     },
     "execution_count": 31,
     "metadata": {},
     "output_type": "execute_result"
    }
   ],
   "source": [
    "import numpy as np\n",
    "w, h = np.array(w), np.array(h)\n",
    "(w < 224).sum(), (h < 224).sum()"
   ]
  },
  {
   "cell_type": "code",
   "execution_count": null,
   "metadata": {},
   "outputs": [],
   "source": []
  }
 ],
 "metadata": {
  "kernelspec": {
   "display_name": "fastai",
   "language": "python",
   "name": "fastai"
  },
  "language_info": {
   "codemirror_mode": {
    "name": "ipython",
    "version": 3
   },
   "file_extension": ".py",
   "mimetype": "text/x-python",
   "name": "python",
   "nbconvert_exporter": "python",
   "pygments_lexer": "ipython3",
   "version": "3.7.2"
  }
 },
 "nbformat": 4,
 "nbformat_minor": 2
}
