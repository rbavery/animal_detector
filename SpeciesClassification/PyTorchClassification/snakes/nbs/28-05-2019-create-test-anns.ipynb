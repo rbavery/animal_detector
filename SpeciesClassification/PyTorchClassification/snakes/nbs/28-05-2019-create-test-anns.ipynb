{
 "cells": [
  {
   "cell_type": "code",
   "execution_count": 11,
   "metadata": {},
   "outputs": [],
   "source": [
    "import json\n",
    "import pandas as pd\n",
    "from pathlib import Path\n",
    "from PIL import Image"
   ]
  },
  {
   "cell_type": "code",
   "execution_count": 12,
   "metadata": {},
   "outputs": [],
   "source": [
    "cwd = Path.cwd()\n",
    "from collections import defaultdict\n",
    "\n",
    "def test2coco(folder):\n",
    "    data_dir = cwd/'data'\n",
    "    \n",
    "    # Define the coco format\n",
    "    test = defaultdict(list)\n",
    "    test['info'] = {\n",
    "        'description': 'The 2019 Snake Species Identification Challenge',\n",
    "        'url': 'https://www.aicrowd.com/challenges/snake-species-identification-challenge',\n",
    "        'version': 1.0,\n",
    "        'date_created': '2019-05-27'\n",
    "    }\n",
    "    counter = 0\n",
    "    for image_path in (data_dir/folder).iterdir():\n",
    "        try:\n",
    "            (w, h) = Image.open(image_path).size\n",
    "            test['images'].append({'id': counter, 'file_name': f'/{folder}/{image_path.name}', 'width': w, 'height': h})\n",
    "            counter += 1\n",
    "        except OSError as e:\n",
    "            pass\n",
    "    \n",
    "    return test"
   ]
  },
  {
   "cell_type": "code",
   "execution_count": 13,
   "metadata": {},
   "outputs": [
    {
     "name": "stdout",
     "output_type": "stream",
     "text": [
      "class_id_mapping.csv  sample_submission_file.csv  train.json\r\n",
      "round1\t\t      train\t\t\t  valid.json\r\n"
     ]
    }
   ],
   "source": [
    "!ls data/"
   ]
  },
  {
   "cell_type": "code",
   "execution_count": 14,
   "metadata": {},
   "outputs": [],
   "source": [
    "test = test2coco('round1')"
   ]
  },
  {
   "cell_type": "code",
   "execution_count": 17,
   "metadata": {},
   "outputs": [],
   "source": [
    "json.dump(test, (cwd/'data'/'round1.json').open('wt', encoding='utf-8'))"
   ]
  },
  {
   "cell_type": "code",
   "execution_count": 15,
   "metadata": {},
   "outputs": [
    {
     "data": {
      "text/plain": [
       "dict_keys(['info', 'images'])"
      ]
     },
     "execution_count": 15,
     "metadata": {},
     "output_type": "execute_result"
    }
   ],
   "source": [
    "test.keys()"
   ]
  },
  {
   "cell_type": "code",
   "execution_count": 16,
   "metadata": {},
   "outputs": [
    {
     "data": {
      "text/plain": [
       "[{'id': 0,\n",
       "  'file_name': '/round1/3927a45206e4fe7c7bfea9d9e14a52db.jpg',\n",
       "  'width': 375,\n",
       "  'height': 500},\n",
       " {'id': 1,\n",
       "  'file_name': '/round1/eda8b5404a77be4997242fc9d634de12.jpg',\n",
       "  'width': 375,\n",
       "  'height': 500},\n",
       " {'id': 2,\n",
       "  'file_name': '/round1/b775c934273f4eb008b261e1009b80c7.jpg',\n",
       "  'width': 1500,\n",
       "  'height': 2000},\n",
       " {'id': 3,\n",
       "  'file_name': '/round1/433fd2459cc82e05c2f8d5e755d37d28.jpg',\n",
       "  'width': 800,\n",
       "  'height': 599},\n",
       " {'id': 4,\n",
       "  'file_name': '/round1/da08f02b6e2265737d78685768501ec6.jpg',\n",
       "  'width': 375,\n",
       "  'height': 500},\n",
       " {'id': 5,\n",
       "  'file_name': '/round1/2b5b0818c289068d25e3682cfeeda0f8.jpg',\n",
       "  'width': 1200,\n",
       "  'height': 2000},\n",
       " {'id': 6,\n",
       "  'file_name': '/round1/3b6c1796ccae7617aea30331e2a52138.jpg',\n",
       "  'width': 375,\n",
       "  'height': 500},\n",
       " {'id': 7,\n",
       "  'file_name': '/round1/6a5b3e573c1e86cddea1c55d46f21bcd.jpg',\n",
       "  'width': 2000,\n",
       "  'height': 1329},\n",
       " {'id': 8,\n",
       "  'file_name': '/round1/76bf7d58ecba7fe1cd2bd57acecaf07f.jpg',\n",
       "  'width': 500,\n",
       "  'height': 375},\n",
       " {'id': 9,\n",
       "  'file_name': '/round1/2b3c9be576d0fbe913a2eac590d6fb84.jpg',\n",
       "  'width': 1125,\n",
       "  'height': 2000}]"
      ]
     },
     "execution_count": 16,
     "metadata": {},
     "output_type": "execute_result"
    }
   ],
   "source": [
    "test['images'][:10]"
   ]
  },
  {
   "cell_type": "code",
   "execution_count": null,
   "metadata": {},
   "outputs": [],
   "source": []
  }
 ],
 "metadata": {
  "kernelspec": {
   "display_name": "Python 3",
   "language": "python",
   "name": "python3"
  },
  "language_info": {
   "codemirror_mode": {
    "name": "ipython",
    "version": 3
   },
   "file_extension": ".py",
   "mimetype": "text/x-python",
   "name": "python",
   "nbconvert_exporter": "python",
   "pygments_lexer": "ipython3",
   "version": "3.7.2"
  }
 },
 "nbformat": 4,
 "nbformat_minor": 2
}
