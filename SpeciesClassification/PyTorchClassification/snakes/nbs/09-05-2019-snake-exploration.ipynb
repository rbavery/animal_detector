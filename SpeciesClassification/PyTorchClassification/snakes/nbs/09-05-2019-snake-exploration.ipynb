{
 "cells": [
  {
   "cell_type": "code",
   "execution_count": 1,
   "metadata": {},
   "outputs": [],
   "source": [
    "import json\n",
    "import pandas as pd\n",
    "import matplotlib.pyplot as plt\n",
    "import seaborn as sns\n",
    "from pathlib import Path\n",
    "from PIL import Image\n",
    "\n",
    "%matplotlib inline"
   ]
  },
  {
   "cell_type": "code",
   "execution_count": 7,
   "metadata": {},
   "outputs": [],
   "source": [
    "cwd = Path.cwd()\n",
    "from collections import defaultdict\n",
    "from random import random\n",
    "\n",
    "def folder2coco(folder, map_file, pct=0.2):\n",
    "    data_dir = cwd/'data'\n",
    "    \n",
    "    # Create class_id to species mapping\n",
    "    mapper = pd.read_csv(data_dir/map_file)\n",
    "    id2species = {idx: species for idx, species in zip(mapper['class_idx'].values, mapper['original_class'].values)}\n",
    "    \n",
    "    # Define the coco format\n",
    "    train = defaultdict(list)\n",
    "    valid = defaultdict(list)\n",
    "    info = {\n",
    "        'description': 'The 2019 Snake Species Identification Challenge',\n",
    "        'url': 'https://www.aicrowd.com/challenges/snake-species-identification-challenge',\n",
    "        'version': 1.0,\n",
    "        'date_created': '2019-05-10'\n",
    "    }\n",
    "    train['info'] = info\n",
    "    valid['info'] = info\n",
    "\n",
    "    counter = 0\n",
    "    for idx, species_dir in enumerate((data_dir/folder).iterdir()):\n",
    "        train['categories'].append({'id': idx, 'name': id2species[int(species_dir.stem.split('-')[-1])]})\n",
    "        valid['categories'].append({'id': idx, 'name': id2species[int(species_dir.stem.split('-')[-1])]})\n",
    "        for image_path in species_dir.iterdir():\n",
    "            try:\n",
    "                coco = train if random() > pct else valid\n",
    "                (w, h) = Image.open(image_path).size\n",
    "                coco['images'].append({'id': counter, 'file_name': f'/{folder}/{species_dir.name}/{image_path.name}', 'width': w, 'height': h})\n",
    "                coco['annotations'].append({'id': counter, 'image_id': counter, 'category_id': idx})\n",
    "                counter += 1\n",
    "            except OSError as e:\n",
    "                pass\n",
    "    \n",
    "    return train, valid"
   ]
  },
  {
   "cell_type": "code",
   "execution_count": 8,
   "metadata": {},
   "outputs": [],
   "source": [
    "train, valid = folder2coco('train', 'class_id_mapping.csv')"
   ]
  },
  {
   "cell_type": "code",
   "execution_count": 9,
   "metadata": {},
   "outputs": [],
   "source": [
    "json.dump(train, (cwd/'data'/'train.json').open('wt', encoding='utf-8'))\n",
    "json.dump(valid, (cwd/'data'/'valid.json').open('wt', encoding='utf-8'))"
   ]
  },
  {
   "cell_type": "code",
   "execution_count": 10,
   "metadata": {},
   "outputs": [
    {
     "data": {
      "text/plain": [
       "(45, 45)"
      ]
     },
     "execution_count": 10,
     "metadata": {},
     "output_type": "execute_result"
    }
   ],
   "source": [
    "len(train['categories']), len(valid['categories'])"
   ]
  },
  {
   "cell_type": "code",
   "execution_count": 11,
   "metadata": {},
   "outputs": [
    {
     "data": {
      "text/plain": [
       "(65964, 16453)"
      ]
     },
     "execution_count": 11,
     "metadata": {},
     "output_type": "execute_result"
    }
   ],
   "source": [
    "len(train['images']), len(valid['images'])"
   ]
  },
  {
   "cell_type": "code",
   "execution_count": 7,
   "metadata": {},
   "outputs": [
    {
     "data": {
      "text/plain": [
       "(66054, 16363)"
      ]
     },
     "execution_count": 7,
     "metadata": {},
     "output_type": "execute_result"
    }
   ],
   "source": [
    "len(train['annotations']), len(valid['annotations'])"
   ]
  },
  {
   "cell_type": "code",
   "execution_count": 8,
   "metadata": {},
   "outputs": [
    {
     "data": {
      "text/plain": [
       "dict_keys(['info', 'categories', 'images', 'annotations'])"
      ]
     },
     "execution_count": 8,
     "metadata": {},
     "output_type": "execute_result"
    }
   ],
   "source": [
    "train.keys()"
   ]
  },
  {
   "cell_type": "code",
   "execution_count": 9,
   "metadata": {},
   "outputs": [
    {
     "data": {
      "text/plain": [
       "[{'id': 0, 'name': 'pantherophis_vulpinus'},\n",
       " {'id': 1, 'name': 'nerodia_erythrogaster'}]"
      ]
     },
     "execution_count": 9,
     "metadata": {},
     "output_type": "execute_result"
    }
   ],
   "source": [
    "train['categories'][:2]"
   ]
  },
  {
   "cell_type": "code",
   "execution_count": 10,
   "metadata": {},
   "outputs": [
    {
     "data": {
      "text/plain": [
       "[{'id': 0, 'image_id': 0, 'category_id': 0},\n",
       " {'id': 3, 'image_id': 3, 'category_id': 0}]"
      ]
     },
     "execution_count": 10,
     "metadata": {},
     "output_type": "execute_result"
    }
   ],
   "source": [
    "train['annotations'][:2]"
   ]
  },
  {
   "cell_type": "code",
   "execution_count": 11,
   "metadata": {},
   "outputs": [
    {
     "data": {
      "text/plain": [
       "[{'id': 0,\n",
       "  'file_name': '/train/class-543/ca34c7358cec2385f4f47ecd3a6a160e.jpg',\n",
       "  'width': 2000,\n",
       "  'height': 1500},\n",
       " {'id': 3,\n",
       "  'file_name': '/train/class-543/49cdb6ea29d4b007cb32b840eaca7061.jpg',\n",
       "  'width': 1500,\n",
       "  'height': 2000}]"
      ]
     },
     "execution_count": 11,
     "metadata": {},
     "output_type": "execute_result"
    }
   ],
   "source": [
    "train['images'][:2]"
   ]
  },
  {
   "cell_type": "code",
   "execution_count": null,
   "metadata": {},
   "outputs": [],
   "source": []
  }
 ],
 "metadata": {
  "kernelspec": {
   "display_name": "Snakes",
   "language": "python",
   "name": "snakes"
  },
  "language_info": {
   "codemirror_mode": {
    "name": "ipython",
    "version": 3
   },
   "file_extension": ".py",
   "mimetype": "text/x-python",
   "name": "python",
   "nbconvert_exporter": "python",
   "pygments_lexer": "ipython3",
   "version": "3.7.3"
  }
 },
 "nbformat": 4,
 "nbformat_minor": 2
}
